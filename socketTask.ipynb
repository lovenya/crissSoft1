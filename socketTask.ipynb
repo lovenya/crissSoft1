{
  "nbformat": 4,
  "nbformat_minor": 0,
  "metadata": {
    "colab": {
      "provenance": [],
      "include_colab_link": true
    },
    "kernelspec": {
      "name": "python3",
      "display_name": "Python 3"
    },
    "language_info": {
      "name": "python"
    }
  },
  "cells": [
    {
      "cell_type": "markdown",
      "metadata": {
        "id": "view-in-github",
        "colab_type": "text"
      },
      "source": [
        "<a href=\"https://colab.research.google.com/github/lovenya/crissSoft1/blob/main/socketTask.ipynb\" target=\"_parent\"><img src=\"https://colab.research.google.com/assets/colab-badge.svg\" alt=\"Open In Colab\"/></a>"
      ]
    },
    {
      "cell_type": "code",
      "execution_count": null,
      "metadata": {
        "id": "A5kLHZl_LfE9"
      },
      "outputs": [],
      "source": [
        "import socket\n",
        "serverIp = '172.17.29.11'\n",
        "serverPort = 6000\n",
        "serverAddress = (serverIp, serverPort)\n",
        "bufferSize = 1024\n",
        "UDPClientSocket = socket.socket(family=socket.AF_INET, type=socket.SOCK_DGRAM)\n",
        "message = \"My name is Lovenya\"\n",
        "bytesToSend = str.encode(message)\n",
        "UDPClientSocket.sendto(bytesToSend, serverAddress)"
      ]
    }
  ]
}